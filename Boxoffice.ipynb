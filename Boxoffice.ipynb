{
 "cells": [
  {
   "cell_type": "code",
   "execution_count": 14,
   "id": "7ed4fa9f",
   "metadata": {},
   "outputs": [],
   "source": [
    "import csv\n",
    "from cs50 import SQL\n",
    "open(\"cinema2.db\", \"w\").close()\n",
    "db=SQL(\"sqlite:///cinema2.db\")\n",
    "db.execute(\"CREATE TABLE cinema(id INTEGER, title TEXT, PRIMARY KEY(id))\")\n",
    "db.execute(\"CREATE TABLE mgenres(cinema_id INTEGER,genre_id INTEGER, FOREIGN KEY(cinema_id) REFERENCES cinema(id), FOREIGN KEY(genre_id) REFERENCES genres(gid))\")\n",
    "db.execute(\"CREATE TABLE genres(gid INTEGER, genre TEXT,PRIMARY KEY(gid))\")\n",
    "\n",
    "with open(\"gross movies.csv\",  \"r\") as file:\n",
    "    reader = csv.DictReader(file)\n",
    "    for row in reader:\n",
    "        title = row[\"Film\"].strip().capitalize()\n",
    "        id = db.execute(\"INSERT INTO cinema (title) VALUES(?)\", title)\n",
    "        for genre in row[\"Genre\"].split(\", \"):\n",
    "            gen=genre.strip().capitalize()\n",
    "            genre1=db.execute(\"INSERT INTO genres(genre) VALUES(?)\",gen) \n",
    "            db.execute(\"INSERT INTO mgenres(cinema_id,genre_id) VALUES((SELECT id FROM cinema WHERE title=?),?)\" , title,genre1)\n",
    "        \n",
    "    \n",
    "        "
   ]
  },
  {
   "cell_type": "code",
   "execution_count": null,
   "id": "88027300",
   "metadata": {},
   "outputs": [],
   "source": []
  },
  {
   "cell_type": "code",
   "execution_count": null,
   "id": "e2be41ce",
   "metadata": {},
   "outputs": [],
   "source": []
  }
 ],
 "metadata": {
  "kernelspec": {
   "display_name": "Python 3 (ipykernel)",
   "language": "python",
   "name": "python3"
  },
  "language_info": {
   "codemirror_mode": {
    "name": "ipython",
    "version": 3
   },
   "file_extension": ".py",
   "mimetype": "text/x-python",
   "name": "python",
   "nbconvert_exporter": "python",
   "pygments_lexer": "ipython3",
   "version": "3.10.4"
  }
 },
 "nbformat": 4,
 "nbformat_minor": 5
}
